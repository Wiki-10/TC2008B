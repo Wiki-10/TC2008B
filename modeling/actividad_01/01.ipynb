{
 "cells": [
  {
   "cell_type": "markdown",
   "metadata": {},
   "source": [
    "# Juego de disparejo"
   ]
  },
  {
   "cell_type": "markdown",
   "metadata": {},
   "source": [
    "Considere un juego de disparejo entre cuatro jugadores, en el que cada jugador adopta la siguiente estrategia:\n",
    "- El jugador 1 siempre escoge al azar entre las dos opciones.\n",
    "- El jugador 2 escoge siempre hacia abajo sin importar lo que haya ocurrido anteriormente.\n",
    "- El jugador 3 escoge la última opción ganadora de las partidas anteriores. En la primera jugada, escoge arriba.\n",
    "- El jugador 4 escoge aquello opuesto al jugador 1 en la última partida. En la primera jugada, escoge al azar.\n",
    "Utilice ```AgentPy``` para generar una simulación del juego, y simule 1000 juegos consecutivos. Muestre los resultados obtenidos para cada uno de los jugadores al final de la simulación.\n",
    "\n",
    "\n"
   ]
  },
  {
   "cell_type": "code",
   "execution_count": 1,
   "metadata": {},
   "outputs": [],
   "source": [
    "import agentpy as ap\n",
    "import numpy as np\n",
    "from collections import Counter"
   ]
  },
  {
   "cell_type": "markdown",
   "metadata": {},
   "source": [
    "**Definir un objeto donde se va a almacenar la información del juego**"
   ]
  },
  {
   "cell_type": "code",
   "execution_count": 2,
   "metadata": {},
   "outputs": [],
   "source": [
    "HISTORY = {\n",
    "    \"last_win\": None,\n",
    "    \"plays\": [],\n",
    "    \"winners\": []\n",
    "}"
   ]
  },
  {
   "cell_type": "markdown",
   "metadata": {},
   "source": [
    "**Definir la clase del jugador, donde se tendrán las reglas que debe de seguir cada uno de ellos**"
   ]
  },
  {
   "cell_type": "code",
   "execution_count": 3,
   "metadata": {},
   "outputs": [],
   "source": [
    "class Player(ap.Agent):\n",
    "    \n",
    "    def setup(self):\n",
    "        \"\"\"\n",
    "        Método que configura al agente\n",
    "        \"\"\"\n",
    "        self.id = 0\n",
    "        self.last_play = 0\n",
    "        \n",
    "    def play(self):\n",
    "        \"\"\"\n",
    "        Método que define la acción a tomar\n",
    "            1 -> arriba\n",
    "            2 -> abajo\n",
    "        \"\"\"\n",
    "        global HISTORY\n",
    "        \n",
    "        # Escoge un número aleatorio entre 1 y 2\n",
    "        if self.id == 1:\n",
    "            self.last_play = np.random.randint(0,2) + 1\n",
    "        \n",
    "        # Siempre escoge 2 (abajo)\n",
    "        elif self.id == 2:\n",
    "            self.last_play = 2\n",
    "            \n",
    "        # Siempre escogerá última opción que ganó, en caso de que no haya ganado ninguna todavía entonces escogerá 1\n",
    "        elif self.id == 3:\n",
    "            self.last_play = HISTORY[\"last_win\"] if HISTORY[\"last_win\"] else 1\n",
    "        \n",
    "        # Siempre escogerá la opción contraria a la que escojió el jugador 1 en la partida anterior. Al principio es al azar\n",
    "        elif self.id == 4:\n",
    "            if len(HISTORY[\"plays\"]) == 0:\n",
    "                self.last_play = np.random.randint(0,2) + 1\n",
    "            elif HISTORY[\"plays\"][-1][0] == 1:\n",
    "                self.last_play = 2\n",
    "            elif HISTORY[\"plays\"][-1][0] == 2:\n",
    "                self.last_play = 1\n",
    "            "
   ]
  },
  {
   "cell_type": "markdown",
   "metadata": {},
   "source": [
    "**Definir la información del juego, donde se va a inicializar cada uno de los jugadores además de definir como se va a hacer cada una de las jugadas**"
   ]
  },
  {
   "cell_type": "code",
   "execution_count": 4,
   "metadata": {},
   "outputs": [],
   "source": [
    "class Game(ap.Model):\n",
    "    \n",
    "    def setup(self):\n",
    "        \"\"\"\n",
    "        Configuración inicial del modelo (sobrecarga)\n",
    "        \"\"\"\n",
    "        self.agents = ap.AgentList(self, self.p.agents, Player)\n",
    "        \n",
    "        # A cada uno de los agentes asignarles un id diferente\n",
    "        self.agents.id = ap.AttrIter([1, 2, 3, 4])\n",
    "        \n",
    "        \n",
    "    def step(self):\n",
    "        \"\"\"\n",
    "        Define el comportamiento del sistema paso a paso (sobrecarga)\n",
    "        \"\"\"\n",
    "        global HISTORY\n",
    "        \n",
    "        # Llamar al método play de cada agente\n",
    "        self.agents.play()\n",
    "        \n",
    "        # Comparar los resultados y definir al ganador\n",
    "        results = [agent.last_play for agent in self.agents]\n",
    "        HISTORY[\"plays\"].append(results)\n",
    "        \n",
    "        # Definir si hay un ganador\n",
    "        results = np.array(results) - 1\n",
    "        if np.count_nonzero(results) == 1:\n",
    "            HISTORY[\"last_win\"] = 2\n",
    "            for i in range(4):\n",
    "                if HISTORY[\"plays\"][-1][i] == 2:\n",
    "                    HISTORY[\"winners\"].append(i + 1)\n",
    "                    break\n",
    "        elif np.count_nonzero(results) == 3:\n",
    "            HISTORY[\"last_win\"] = 1\n",
    "            for i in range(4):\n",
    "                if HISTORY[\"plays\"][-1][i] == 1:\n",
    "                    HISTORY[\"winners\"].append(i + 1)\n",
    "                    break\n"
   ]
  },
  {
   "cell_type": "markdown",
   "metadata": {},
   "source": [
    "**Definir los parámetros del juego**"
   ]
  },
  {
   "cell_type": "code",
   "execution_count": 5,
   "metadata": {},
   "outputs": [],
   "source": [
    "parameters = {\n",
    "    'agents': 4,\n",
    "    'steps': 1000,\n",
    "    'seed': 13\n",
    "}"
   ]
  },
  {
   "cell_type": "markdown",
   "metadata": {},
   "source": [
    "**Correr la simulación del juego**"
   ]
  },
  {
   "cell_type": "code",
   "execution_count": 6,
   "metadata": {},
   "outputs": [
    {
     "name": "stdout",
     "output_type": "stream",
     "text": [
      "Completed: 1000 steps\n",
      "Run time: 0:00:00.142021\n",
      "Simulation finished\n"
     ]
    },
    {
     "data": {
      "text/plain": [
       "DataDict {\n",
       "'info': Dictionary with 9 keys\n",
       "'parameters': \n",
       "    'constants': Dictionary with 3 keys\n",
       "'reporters': DataFrame with 1 variable and 1 row\n",
       "}"
      ]
     },
     "execution_count": 6,
     "metadata": {},
     "output_type": "execute_result"
    }
   ],
   "source": [
    "model = Game(parameters)\n",
    "model.run()"
   ]
  },
  {
   "cell_type": "markdown",
   "metadata": {},
   "source": [
    "**Leaderboard**"
   ]
  },
  {
   "cell_type": "code",
   "execution_count": 7,
   "metadata": {},
   "outputs": [
    {
     "name": "stdout",
     "output_type": "stream",
     "text": [
      "#1. Player 02 (winner 190 times)\n",
      "#2. Player 01 (winner 137 times)\n",
      "#3. Player 03 (winner 136 times)\n",
      "#4. Player 04 (winner 53 times)\n",
      "-> 484 times were played without a winner\n"
     ]
    }
   ],
   "source": [
    "ordered_players = Counter(HISTORY[\"winners\"]).most_common()\n",
    "wins = 0\n",
    "for index, result in enumerate(ordered_players):\n",
    "    print(f\"#{index + 1}. Player 0{result[0]} (winner {result[1]} times)\")\n",
    "    wins += result[1]\n",
    "    \n",
    "print(f\"-> {parameters['steps'] - wins} times were played without a winner\")"
   ]
  },
  {
   "cell_type": "markdown",
   "metadata": {},
   "source": [
    "**Ver 20 de los juegos que se hicieron para confirmar que se respeten las reglas del juego**"
   ]
  },
  {
   "cell_type": "code",
   "execution_count": 8,
   "metadata": {},
   "outputs": [
    {
     "data": {
      "text/plain": [
       "[[1, 2, 1, 1],\n",
       " [1, 2, 2, 2],\n",
       " [1, 2, 1, 2],\n",
       " [2, 2, 1, 2],\n",
       " [2, 2, 1, 1],\n",
       " [2, 2, 1, 1],\n",
       " [1, 2, 1, 1],\n",
       " [1, 2, 2, 2],\n",
       " [2, 2, 1, 2],\n",
       " [1, 2, 1, 1],\n",
       " [2, 2, 2, 2],\n",
       " [2, 2, 2, 1],\n",
       " [1, 2, 1, 1],\n",
       " [1, 2, 2, 2],\n",
       " [1, 2, 1, 2],\n",
       " [1, 2, 1, 2],\n",
       " [1, 2, 1, 2],\n",
       " [2, 2, 1, 2],\n",
       " [2, 2, 1, 1],\n",
       " [1, 2, 1, 1]]"
      ]
     },
     "execution_count": 8,
     "metadata": {},
     "output_type": "execute_result"
    }
   ],
   "source": [
    "HISTORY[\"plays\"][:20]"
   ]
  },
  {
   "cell_type": "markdown",
   "metadata": {},
   "source": [
    "## Preguntas\n",
    "\n",
    "**¿Qué jugador obtuvo mejores resultados?**\n",
    "- Los mejores resultados, por un amplio margen, los obtuvo el jugador 02. Este jugador siempre tomaba la misma posición sin importar los resultados anteriores o lo que pusieran los demás jugadores. Esto lo podemos ver en la penúltima celda, donde vemos las veces que ganó cada uno de los jugadores de las 1000 veces que se realizó el juego.\n",
    "\n",
    "**¿Alguna de las estrategias fue mejor que las otras?**\n",
    "- La mejor estrategia fue claramente siempre poner la mano para abajo (la misma posición en todos los juegos). Repetimos el experimento más de 5 veces y siempre el jugador 02 fue el vencedor, además de que por un amplio margen."
   ]
  },
  {
   "cell_type": "code",
   "execution_count": null,
   "metadata": {},
   "outputs": [],
   "source": []
  }
 ],
 "metadata": {
  "interpreter": {
   "hash": "5a7cf388ada1142174c72c5ff510364c98ccfe89c44fe6a7e8817c278f125490"
  },
  "kernelspec": {
   "display_name": "Python 3",
   "language": "python",
   "name": "python3"
  },
  "language_info": {
   "codemirror_mode": {
    "name": "ipython",
    "version": 3
   },
   "file_extension": ".py",
   "mimetype": "text/x-python",
   "name": "python",
   "nbconvert_exporter": "python",
   "pygments_lexer": "ipython3",
   "version": "3.8.5"
  }
 },
 "nbformat": 4,
 "nbformat_minor": 2
}
