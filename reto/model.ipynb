{
 "cells": [
  {
   "cell_type": "markdown",
   "metadata": {},
   "source": [
    "# Modelo Reto\n",
    "---"
   ]
  },
  {
   "cell_type": "markdown",
   "metadata": {},
   "source": [
    "## Instrucciones\n",
    "<Descripción del Problema>"
   ]
  },
  {
   "cell_type": "markdown",
   "metadata": {},
   "source": [
    "## Solución"
   ]
  },
  {
   "cell_type": "markdown",
   "metadata": {},
   "source": [
    "### Importar librerías\n",
    "Se importan las librerías necesarias para el entorno y el agente."
   ]
  },
  {
   "cell_type": "code",
   "execution_count": 64,
   "metadata": {},
   "outputs": [],
   "source": [
    "# Librerías para el agente y modelo\n",
    "import agentpy as ap\n",
    "import numpy as np\n",
    "\n",
    "# Librearías de Visualización y otros\n",
    "import matplotlib.pyplot as plt\n",
    "plt.style.use('ggplot')"
   ]
  },
  {
   "cell_type": "markdown",
   "metadata": {},
   "source": [
    "### Definición de las clases\n",
    "Se define la clase agente ``TrafficLight``, la cuál se encarga de simular a los semáforos, y la clase de modelo ``TrafficLightModel``, la cuál se encarga de simular el entorno."
   ]
  },
  {
   "cell_type": "code",
   "execution_count": 65,
   "metadata": {},
   "outputs": [],
   "source": [
    "class TrafficLight(ap.Agent):\n",
    "\n",
    "  def setup(self):\n",
    "    self.state = 0\n",
    "    self.states = ['red', 'green', 'yellow']\n",
    "    self.updateState()\n",
    "    self.time = 0\n",
    "    self.time_limits = self.p.traffic_times\n",
    "  \n",
    "  def act(self):\n",
    "    self.time += 1\n",
    "    if self.time == self.time_limits[self.state]:\n",
    "      self.time = 0\n",
    "      self.state = (self.state + 1) % 3\n",
    "      self.updateState()\n",
    "  \n",
    "  def updateState(self):\n",
    "    self.current_state = self.states[self.state]\n"
   ]
  },
  {
   "cell_type": "code",
   "execution_count": 66,
   "metadata": {},
   "outputs": [],
   "source": [
    "class TrafficLightModel(ap.Model):\n",
    "\n",
    "  def setup(self):\n",
    "    self.trafficAgents = ap.AgentList(self, self.p.traffic_lights, TrafficLight)\n",
    "    self.trafficAgents.state = ap.AttrIter([1, 1, 0, 0])\n",
    "    self.trafficAgents.updateState()\n",
    "  \n",
    "  def step(self):\n",
    "    self.trafficAgents.act()\n",
    "  \n",
    "  def update(self):\n",
    "    states = np.array(self.trafficAgents.state)\n",
    "    stateNames = np.array(self.trafficAgents.current_state)\n",
    "\n",
    "    self.record(\"State\", states)\n",
    "    self.record(\"State Names\", stateNames)\n",
    "  \n",
    "  def end(self):\n",
    "    pass"
   ]
  },
  {
   "cell_type": "markdown",
   "metadata": {},
   "source": [
    "### Simulación\n",
    "Se definen los parámetros, se crea un objeto de la clase ``TrafficLightModel``, y se ejecuta la simulación."
   ]
  },
  {
   "cell_type": "code",
   "execution_count": 67,
   "metadata": {},
   "outputs": [],
   "source": [
    "parameters = {\n",
    "  'traffic_lights': 4,         # Número de semáforos\n",
    "  'traffic_times': [10, 7, 3], # Tiempos de cada estado\n",
    "  'steps': 100                 # Número de pasos\n",
    "}"
   ]
  },
  {
   "cell_type": "code",
   "execution_count": 68,
   "metadata": {},
   "outputs": [
    {
     "name": "stdout",
     "output_type": "stream",
     "text": [
      "Completed: 100 steps\n",
      "Run time: 0:00:00.026350\n",
      "Simulation finished\n"
     ]
    }
   ],
   "source": [
    "model = TrafficLightModel(parameters)\n",
    "results = model.run()"
   ]
  },
  {
   "cell_type": "code",
   "execution_count": 69,
   "metadata": {},
   "outputs": [
    {
     "data": {
      "text/html": [
       "<div>\n",
       "<style scoped>\n",
       "    .dataframe tbody tr th:only-of-type {\n",
       "        vertical-align: middle;\n",
       "    }\n",
       "\n",
       "    .dataframe tbody tr th {\n",
       "        vertical-align: top;\n",
       "    }\n",
       "\n",
       "    .dataframe thead th {\n",
       "        text-align: right;\n",
       "    }\n",
       "</style>\n",
       "<table border=\"1\" class=\"dataframe\">\n",
       "  <thead>\n",
       "    <tr style=\"text-align: right;\">\n",
       "      <th></th>\n",
       "      <th>State</th>\n",
       "      <th>State Names</th>\n",
       "    </tr>\n",
       "    <tr>\n",
       "      <th>t</th>\n",
       "      <th></th>\n",
       "      <th></th>\n",
       "    </tr>\n",
       "  </thead>\n",
       "  <tbody>\n",
       "    <tr>\n",
       "      <th>0</th>\n",
       "      <td>[1, 1, 0, 0]</td>\n",
       "      <td>[green, green, red, red]</td>\n",
       "    </tr>\n",
       "    <tr>\n",
       "      <th>1</th>\n",
       "      <td>[1, 1, 0, 0]</td>\n",
       "      <td>[green, green, red, red]</td>\n",
       "    </tr>\n",
       "    <tr>\n",
       "      <th>2</th>\n",
       "      <td>[1, 1, 0, 0]</td>\n",
       "      <td>[green, green, red, red]</td>\n",
       "    </tr>\n",
       "    <tr>\n",
       "      <th>3</th>\n",
       "      <td>[1, 1, 0, 0]</td>\n",
       "      <td>[green, green, red, red]</td>\n",
       "    </tr>\n",
       "    <tr>\n",
       "      <th>4</th>\n",
       "      <td>[1, 1, 0, 0]</td>\n",
       "      <td>[green, green, red, red]</td>\n",
       "    </tr>\n",
       "    <tr>\n",
       "      <th>5</th>\n",
       "      <td>[1, 1, 0, 0]</td>\n",
       "      <td>[green, green, red, red]</td>\n",
       "    </tr>\n",
       "    <tr>\n",
       "      <th>6</th>\n",
       "      <td>[1, 1, 0, 0]</td>\n",
       "      <td>[green, green, red, red]</td>\n",
       "    </tr>\n",
       "    <tr>\n",
       "      <th>7</th>\n",
       "      <td>[2, 2, 0, 0]</td>\n",
       "      <td>[yellow, yellow, red, red]</td>\n",
       "    </tr>\n",
       "    <tr>\n",
       "      <th>8</th>\n",
       "      <td>[2, 2, 0, 0]</td>\n",
       "      <td>[yellow, yellow, red, red]</td>\n",
       "    </tr>\n",
       "    <tr>\n",
       "      <th>9</th>\n",
       "      <td>[2, 2, 0, 0]</td>\n",
       "      <td>[yellow, yellow, red, red]</td>\n",
       "    </tr>\n",
       "    <tr>\n",
       "      <th>10</th>\n",
       "      <td>[0, 0, 1, 1]</td>\n",
       "      <td>[red, red, green, green]</td>\n",
       "    </tr>\n",
       "    <tr>\n",
       "      <th>11</th>\n",
       "      <td>[0, 0, 1, 1]</td>\n",
       "      <td>[red, red, green, green]</td>\n",
       "    </tr>\n",
       "    <tr>\n",
       "      <th>12</th>\n",
       "      <td>[0, 0, 1, 1]</td>\n",
       "      <td>[red, red, green, green]</td>\n",
       "    </tr>\n",
       "    <tr>\n",
       "      <th>13</th>\n",
       "      <td>[0, 0, 1, 1]</td>\n",
       "      <td>[red, red, green, green]</td>\n",
       "    </tr>\n",
       "    <tr>\n",
       "      <th>14</th>\n",
       "      <td>[0, 0, 1, 1]</td>\n",
       "      <td>[red, red, green, green]</td>\n",
       "    </tr>\n",
       "    <tr>\n",
       "      <th>15</th>\n",
       "      <td>[0, 0, 1, 1]</td>\n",
       "      <td>[red, red, green, green]</td>\n",
       "    </tr>\n",
       "    <tr>\n",
       "      <th>16</th>\n",
       "      <td>[0, 0, 1, 1]</td>\n",
       "      <td>[red, red, green, green]</td>\n",
       "    </tr>\n",
       "    <tr>\n",
       "      <th>17</th>\n",
       "      <td>[0, 0, 2, 2]</td>\n",
       "      <td>[red, red, yellow, yellow]</td>\n",
       "    </tr>\n",
       "    <tr>\n",
       "      <th>18</th>\n",
       "      <td>[0, 0, 2, 2]</td>\n",
       "      <td>[red, red, yellow, yellow]</td>\n",
       "    </tr>\n",
       "    <tr>\n",
       "      <th>19</th>\n",
       "      <td>[0, 0, 2, 2]</td>\n",
       "      <td>[red, red, yellow, yellow]</td>\n",
       "    </tr>\n",
       "  </tbody>\n",
       "</table>\n",
       "</div>"
      ],
      "text/plain": [
       "           State                 State Names\n",
       "t                                           \n",
       "0   [1, 1, 0, 0]    [green, green, red, red]\n",
       "1   [1, 1, 0, 0]    [green, green, red, red]\n",
       "2   [1, 1, 0, 0]    [green, green, red, red]\n",
       "3   [1, 1, 0, 0]    [green, green, red, red]\n",
       "4   [1, 1, 0, 0]    [green, green, red, red]\n",
       "5   [1, 1, 0, 0]    [green, green, red, red]\n",
       "6   [1, 1, 0, 0]    [green, green, red, red]\n",
       "7   [2, 2, 0, 0]  [yellow, yellow, red, red]\n",
       "8   [2, 2, 0, 0]  [yellow, yellow, red, red]\n",
       "9   [2, 2, 0, 0]  [yellow, yellow, red, red]\n",
       "10  [0, 0, 1, 1]    [red, red, green, green]\n",
       "11  [0, 0, 1, 1]    [red, red, green, green]\n",
       "12  [0, 0, 1, 1]    [red, red, green, green]\n",
       "13  [0, 0, 1, 1]    [red, red, green, green]\n",
       "14  [0, 0, 1, 1]    [red, red, green, green]\n",
       "15  [0, 0, 1, 1]    [red, red, green, green]\n",
       "16  [0, 0, 1, 1]    [red, red, green, green]\n",
       "17  [0, 0, 2, 2]  [red, red, yellow, yellow]\n",
       "18  [0, 0, 2, 2]  [red, red, yellow, yellow]\n",
       "19  [0, 0, 2, 2]  [red, red, yellow, yellow]"
      ]
     },
     "execution_count": 69,
     "metadata": {},
     "output_type": "execute_result"
    }
   ],
   "source": [
    "results.variables.TrafficLightModel.head(20)"
   ]
  }
 ],
 "metadata": {
  "interpreter": {
   "hash": "93498b811eb5b764331d10b32ce9ca3bff7ab56b708cb303d8ce34e221ab6e5b"
  },
  "kernelspec": {
   "display_name": "Python 3.8.10 64-bit ('venv': venv)",
   "language": "python",
   "name": "python3"
  },
  "language_info": {
   "codemirror_mode": {
    "name": "ipython",
    "version": 3
   },
   "file_extension": ".py",
   "mimetype": "text/x-python",
   "name": "python",
   "nbconvert_exporter": "python",
   "pygments_lexer": "ipython3",
   "version": "3.8.10"
  },
  "orig_nbformat": 4
 },
 "nbformat": 4,
 "nbformat_minor": 2
}
